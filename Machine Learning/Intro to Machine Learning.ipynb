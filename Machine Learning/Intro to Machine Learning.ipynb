{
 "cells": [
  {
   "cell_type": "markdown",
   "id": "664f6591",
   "metadata": {},
   "source": [
    "# Intro to Machine Learning with Julia "
   ]
  },
  {
   "cell_type": "code",
   "execution_count": 1,
   "id": "76a12991",
   "metadata": {},
   "outputs": [
    {
     "data": {
      "text/plain": [
       "\"https://archive.ics.uci.edu/ml/machine-learning-databases/iris/iris.data\""
      ]
     },
     "execution_count": 1,
     "metadata": {},
     "output_type": "execute_result"
    }
   ],
   "source": [
    "iris_datapath = \"https://archive.ics.uci.edu/ml/machine-learning-databases/iris/iris.data\""
   ]
  },
  {
   "cell_type": "code",
   "execution_count": 2,
   "id": "6b2363e2",
   "metadata": {},
   "outputs": [],
   "source": [
    "using CSV, DataFrames, Downloads"
   ]
  },
  {
   "cell_type": "code",
   "execution_count": 3,
   "id": "1235e24d",
   "metadata": {
    "scrolled": true
   },
   "outputs": [
    {
     "data": {
      "text/html": [
       "<table class=\"data-frame\"><thead><tr><th></th><th>Column1</th><th>Column2</th><th>Column3</th><th>Column4</th><th>Column5</th></tr><tr><th></th><th>Float64</th><th>Float64</th><th>Float64</th><th>Float64</th><th>String</th></tr></thead><tbody><p>5 rows × 5 columns</p><tr><th>1</th><td>5.1</td><td>3.5</td><td>1.4</td><td>0.2</td><td>Iris-setosa</td></tr><tr><th>2</th><td>4.9</td><td>3.0</td><td>1.4</td><td>0.2</td><td>Iris-setosa</td></tr><tr><th>3</th><td>4.7</td><td>3.2</td><td>1.3</td><td>0.2</td><td>Iris-setosa</td></tr><tr><th>4</th><td>4.6</td><td>3.1</td><td>1.5</td><td>0.2</td><td>Iris-setosa</td></tr><tr><th>5</th><td>5.0</td><td>3.6</td><td>1.4</td><td>0.2</td><td>Iris-setosa</td></tr></tbody></table>"
      ],
      "text/latex": [
       "\\begin{tabular}{r|ccccc}\n",
       "\t& Column1 & Column2 & Column3 & Column4 & Column5\\\\\n",
       "\t\\hline\n",
       "\t& Float64 & Float64 & Float64 & Float64 & String\\\\\n",
       "\t\\hline\n",
       "\t1 & 5.1 & 3.5 & 1.4 & 0.2 & Iris-setosa \\\\\n",
       "\t2 & 4.9 & 3.0 & 1.4 & 0.2 & Iris-setosa \\\\\n",
       "\t3 & 4.7 & 3.2 & 1.3 & 0.2 & Iris-setosa \\\\\n",
       "\t4 & 4.6 & 3.1 & 1.5 & 0.2 & Iris-setosa \\\\\n",
       "\t5 & 5.0 & 3.6 & 1.4 & 0.2 & Iris-setosa \\\\\n",
       "\\end{tabular}\n"
      ],
      "text/plain": [
       "\u001b[1m5×5 DataFrame\u001b[0m\n",
       "\u001b[1m Row \u001b[0m│\u001b[1m Column1 \u001b[0m\u001b[1m Column2 \u001b[0m\u001b[1m Column3 \u001b[0m\u001b[1m Column4 \u001b[0m\u001b[1m Column5     \u001b[0m\n",
       "\u001b[1m     \u001b[0m│\u001b[90m Float64 \u001b[0m\u001b[90m Float64 \u001b[0m\u001b[90m Float64 \u001b[0m\u001b[90m Float64 \u001b[0m\u001b[90m String      \u001b[0m\n",
       "─────┼─────────────────────────────────────────────────\n",
       "   1 │     5.1      3.5      1.4      0.2  Iris-setosa\n",
       "   2 │     4.9      3.0      1.4      0.2  Iris-setosa\n",
       "   3 │     4.7      3.2      1.3      0.2  Iris-setosa\n",
       "   4 │     4.6      3.1      1.5      0.2  Iris-setosa\n",
       "   5 │     5.0      3.6      1.4      0.2  Iris-setosa"
      ]
     },
     "execution_count": 3,
     "metadata": {},
     "output_type": "execute_result"
    }
   ],
   "source": [
    "# Import iris data\n",
    "iris_data = DataFrame(CSV.File(Downloads.download(iris_datapath), header = 0));\n",
    "first(iris_data, 5)"
   ]
  },
  {
   "cell_type": "markdown",
   "id": "5155c962",
   "metadata": {},
   "source": [
    "## Logistic Regression"
   ]
  },
  {
   "cell_type": "code",
   "execution_count": 4,
   "id": "19b90659",
   "metadata": {
    "scrolled": true
   },
   "outputs": [
    {
     "data": {
      "text/html": [
       "<table class=\"data-frame\"><thead><tr><th></th><th>Column1</th><th>Column2</th><th>Column3</th><th>Column4</th><th>Column5</th></tr><tr><th></th><th>Float64</th><th>Float64</th><th>Float64</th><th>Float64</th><th>String</th></tr></thead><tbody><p>10 rows × 5 columns</p><tr><th>1</th><td>5.1</td><td>3.5</td><td>1.4</td><td>0.2</td><td>Iris_setosa</td></tr><tr><th>2</th><td>4.9</td><td>3.0</td><td>1.4</td><td>0.2</td><td>Iris_setosa</td></tr><tr><th>3</th><td>4.7</td><td>3.2</td><td>1.3</td><td>0.2</td><td>Iris_setosa</td></tr><tr><th>4</th><td>4.6</td><td>3.1</td><td>1.5</td><td>0.2</td><td>Iris_setosa</td></tr><tr><th>5</th><td>5.0</td><td>3.6</td><td>1.4</td><td>0.2</td><td>Iris_setosa</td></tr><tr><th>6</th><td>5.4</td><td>3.9</td><td>1.7</td><td>0.4</td><td>Iris_setosa</td></tr><tr><th>7</th><td>4.6</td><td>3.4</td><td>1.4</td><td>0.3</td><td>Iris_setosa</td></tr><tr><th>8</th><td>5.0</td><td>3.4</td><td>1.5</td><td>0.2</td><td>Iris_setosa</td></tr><tr><th>9</th><td>4.4</td><td>2.9</td><td>1.4</td><td>0.2</td><td>Iris_setosa</td></tr><tr><th>10</th><td>4.9</td><td>3.1</td><td>1.5</td><td>0.1</td><td>Iris_setosa</td></tr></tbody></table>"
      ],
      "text/latex": [
       "\\begin{tabular}{r|ccccc}\n",
       "\t& Column1 & Column2 & Column3 & Column4 & Column5\\\\\n",
       "\t\\hline\n",
       "\t& Float64 & Float64 & Float64 & Float64 & String\\\\\n",
       "\t\\hline\n",
       "\t1 & 5.1 & 3.5 & 1.4 & 0.2 & Iris\\_setosa \\\\\n",
       "\t2 & 4.9 & 3.0 & 1.4 & 0.2 & Iris\\_setosa \\\\\n",
       "\t3 & 4.7 & 3.2 & 1.3 & 0.2 & Iris\\_setosa \\\\\n",
       "\t4 & 4.6 & 3.1 & 1.5 & 0.2 & Iris\\_setosa \\\\\n",
       "\t5 & 5.0 & 3.6 & 1.4 & 0.2 & Iris\\_setosa \\\\\n",
       "\t6 & 5.4 & 3.9 & 1.7 & 0.4 & Iris\\_setosa \\\\\n",
       "\t7 & 4.6 & 3.4 & 1.4 & 0.3 & Iris\\_setosa \\\\\n",
       "\t8 & 5.0 & 3.4 & 1.5 & 0.2 & Iris\\_setosa \\\\\n",
       "\t9 & 4.4 & 2.9 & 1.4 & 0.2 & Iris\\_setosa \\\\\n",
       "\t10 & 4.9 & 3.1 & 1.5 & 0.1 & Iris\\_setosa \\\\\n",
       "\\end{tabular}\n"
      ],
      "text/plain": [
       "\u001b[1m10×5 DataFrame\u001b[0m\n",
       "\u001b[1m Row \u001b[0m│\u001b[1m Column1 \u001b[0m\u001b[1m Column2 \u001b[0m\u001b[1m Column3 \u001b[0m\u001b[1m Column4 \u001b[0m\u001b[1m Column5     \u001b[0m\n",
       "\u001b[1m     \u001b[0m│\u001b[90m Float64 \u001b[0m\u001b[90m Float64 \u001b[0m\u001b[90m Float64 \u001b[0m\u001b[90m Float64 \u001b[0m\u001b[90m String      \u001b[0m\n",
       "─────┼─────────────────────────────────────────────────\n",
       "   1 │     5.1      3.5      1.4      0.2  Iris_setosa\n",
       "   2 │     4.9      3.0      1.4      0.2  Iris_setosa\n",
       "   3 │     4.7      3.2      1.3      0.2  Iris_setosa\n",
       "   4 │     4.6      3.1      1.5      0.2  Iris_setosa\n",
       "   5 │     5.0      3.6      1.4      0.2  Iris_setosa\n",
       "   6 │     5.4      3.9      1.7      0.4  Iris_setosa\n",
       "   7 │     4.6      3.4      1.4      0.3  Iris_setosa\n",
       "   8 │     5.0      3.4      1.5      0.2  Iris_setosa\n",
       "   9 │     4.4      2.9      1.4      0.2  Iris_setosa\n",
       "  10 │     4.9      3.1      1.5      0.1  Iris_setosa"
      ]
     },
     "execution_count": 4,
     "metadata": {},
     "output_type": "execute_result"
    }
   ],
   "source": [
    "# Clean species name\n",
    "iris_data.Column5 = replace(species -> contains(species, \"-\") ? replace(species, \"-\" => \"_\") : species, iris_data[!, \"Column5\"]);\n",
    "first(iris_data, 10)"
   ]
  },
  {
   "cell_type": "code",
   "execution_count": 5,
   "id": "06aed07d",
   "metadata": {
    "scrolled": false
   },
   "outputs": [
    {
     "data": {
      "text/html": [
       "<table class=\"data-frame\"><thead><tr><th></th><th>Sepal_Length</th><th>Sepal_Width</th><th>Petal_Length</th><th>Petal_Width</th><th>Species</th></tr><tr><th></th><th>Float64</th><th>Float64</th><th>Float64</th><th>Float64</th><th>String</th></tr></thead><tbody><p>5 rows × 5 columns</p><tr><th>1</th><td>5.1</td><td>3.5</td><td>1.4</td><td>0.2</td><td>Iris_setosa</td></tr><tr><th>2</th><td>4.9</td><td>3.0</td><td>1.4</td><td>0.2</td><td>Iris_setosa</td></tr><tr><th>3</th><td>4.7</td><td>3.2</td><td>1.3</td><td>0.2</td><td>Iris_setosa</td></tr><tr><th>4</th><td>4.6</td><td>3.1</td><td>1.5</td><td>0.2</td><td>Iris_setosa</td></tr><tr><th>5</th><td>5.0</td><td>3.6</td><td>1.4</td><td>0.2</td><td>Iris_setosa</td></tr></tbody></table>"
      ],
      "text/latex": [
       "\\begin{tabular}{r|ccccc}\n",
       "\t& Sepal\\_Length & Sepal\\_Width & Petal\\_Length & Petal\\_Width & Species\\\\\n",
       "\t\\hline\n",
       "\t& Float64 & Float64 & Float64 & Float64 & String\\\\\n",
       "\t\\hline\n",
       "\t1 & 5.1 & 3.5 & 1.4 & 0.2 & Iris\\_setosa \\\\\n",
       "\t2 & 4.9 & 3.0 & 1.4 & 0.2 & Iris\\_setosa \\\\\n",
       "\t3 & 4.7 & 3.2 & 1.3 & 0.2 & Iris\\_setosa \\\\\n",
       "\t4 & 4.6 & 3.1 & 1.5 & 0.2 & Iris\\_setosa \\\\\n",
       "\t5 & 5.0 & 3.6 & 1.4 & 0.2 & Iris\\_setosa \\\\\n",
       "\\end{tabular}\n"
      ],
      "text/plain": [
       "\u001b[1m5×5 DataFrame\u001b[0m\n",
       "\u001b[1m Row \u001b[0m│\u001b[1m Sepal_Length \u001b[0m\u001b[1m Sepal_Width \u001b[0m\u001b[1m Petal_Length \u001b[0m\u001b[1m Petal_Width \u001b[0m\u001b[1m Species     \u001b[0m\n",
       "\u001b[1m     \u001b[0m│\u001b[90m Float64      \u001b[0m\u001b[90m Float64     \u001b[0m\u001b[90m Float64      \u001b[0m\u001b[90m Float64     \u001b[0m\u001b[90m String      \u001b[0m\n",
       "─────┼───────────────────────────────────────────────────────────────────\n",
       "   1 │          5.1          3.5           1.4          0.2  Iris_setosa\n",
       "   2 │          4.9          3.0           1.4          0.2  Iris_setosa\n",
       "   3 │          4.7          3.2           1.3          0.2  Iris_setosa\n",
       "   4 │          4.6          3.1           1.5          0.2  Iris_setosa\n",
       "   5 │          5.0          3.6           1.4          0.2  Iris_setosa"
      ]
     },
     "execution_count": 5,
     "metadata": {},
     "output_type": "execute_result"
    }
   ],
   "source": [
    "# Rename columns\n",
    "col_names = [\"Sepal_Length\",\"Sepal_Width\",\"Petal_Length\",\"Petal_Width\",\"Species\"];\n",
    "rename!(iris_data, col_names);\n",
    "first(iris_data, 5)"
   ]
  },
  {
   "cell_type": "code",
   "execution_count": 6,
   "id": "6b2627a1",
   "metadata": {
    "scrolled": true
   },
   "outputs": [
    {
     "data": {
      "text/html": [
       "<table class=\"data-frame\"><thead><tr><th></th><th>Sepal_Length</th><th>Sepal_Width</th><th>Petal_Length</th><th>Petal_Width</th><th>Species_Iris_setosa</th><th>Species_Iris_versicolor</th></tr><tr><th></th><th>Float64</th><th>Float64</th><th>Float64</th><th>Float64</th><th>Bool</th><th>Bool</th></tr></thead><tbody><p>5 rows × 7 columns (omitted printing of 1 columns)</p><tr><th>1</th><td>5.1</td><td>3.5</td><td>1.4</td><td>0.2</td><td>1</td><td>0</td></tr><tr><th>2</th><td>4.9</td><td>3.0</td><td>1.4</td><td>0.2</td><td>1</td><td>0</td></tr><tr><th>3</th><td>4.7</td><td>3.2</td><td>1.3</td><td>0.2</td><td>1</td><td>0</td></tr><tr><th>4</th><td>4.6</td><td>3.1</td><td>1.5</td><td>0.2</td><td>1</td><td>0</td></tr><tr><th>5</th><td>5.0</td><td>3.6</td><td>1.4</td><td>0.2</td><td>1</td><td>0</td></tr></tbody></table>"
      ],
      "text/latex": [
       "\\begin{tabular}{r|ccccccc}\n",
       "\t& Sepal\\_Length & Sepal\\_Width & Petal\\_Length & Petal\\_Width & Species\\_Iris\\_setosa & Species\\_Iris\\_versicolor & \\\\\n",
       "\t\\hline\n",
       "\t& Float64 & Float64 & Float64 & Float64 & Bool & Bool & \\\\\n",
       "\t\\hline\n",
       "\t1 & 5.1 & 3.5 & 1.4 & 0.2 & 1 & 0 & $\\dots$ \\\\\n",
       "\t2 & 4.9 & 3.0 & 1.4 & 0.2 & 1 & 0 & $\\dots$ \\\\\n",
       "\t3 & 4.7 & 3.2 & 1.3 & 0.2 & 1 & 0 & $\\dots$ \\\\\n",
       "\t4 & 4.6 & 3.1 & 1.5 & 0.2 & 1 & 0 & $\\dots$ \\\\\n",
       "\t5 & 5.0 & 3.6 & 1.4 & 0.2 & 1 & 0 & $\\dots$ \\\\\n",
       "\\end{tabular}\n"
      ],
      "text/plain": [
       "\u001b[1m5×7 DataFrame\u001b[0m\n",
       "\u001b[1m Row \u001b[0m│\u001b[1m Sepal_Length \u001b[0m\u001b[1m Sepal_Width \u001b[0m\u001b[1m Petal_Length \u001b[0m\u001b[1m Petal_Width \u001b[0m\u001b[1m Species_Iris_seto\u001b[0m ⋯\n",
       "\u001b[1m     \u001b[0m│\u001b[90m Float64      \u001b[0m\u001b[90m Float64     \u001b[0m\u001b[90m Float64      \u001b[0m\u001b[90m Float64     \u001b[0m\u001b[90m Bool             \u001b[0m ⋯\n",
       "─────┼──────────────────────────────────────────────────────────────────────────\n",
       "   1 │          5.1          3.5           1.4          0.2                 tr ⋯\n",
       "   2 │          4.9          3.0           1.4          0.2                 tr\n",
       "   3 │          4.7          3.2           1.3          0.2                 tr\n",
       "   4 │          4.6          3.1           1.5          0.2                 tr\n",
       "   5 │          5.0          3.6           1.4          0.2                 tr ⋯\n",
       "\u001b[36m                                                               3 columns omitted\u001b[0m"
      ]
     },
     "execution_count": 6,
     "metadata": {},
     "output_type": "execute_result"
    }
   ],
   "source": [
    "# One Hot encode the dependent variable\n",
    "unique_species = unique(iris_data.Species);\n",
    "iris_data = transform(iris_data, @. :Species => ByRow(isequal(unique_species)) .=> Symbol(:Species_, unique_species));\n",
    "iris_data = select!(iris_data, Not([:Species]));\n",
    "first(iris_data, 5)"
   ]
  },
  {
   "cell_type": "code",
   "execution_count": 7,
   "id": "d1f30e6d",
   "metadata": {
    "scrolled": true
   },
   "outputs": [
    {
     "data": {
      "text/html": [
       "<table class=\"data-frame\"><thead><tr><th></th><th>Sepal_Length</th><th>Sepal_Width</th><th>Petal_Length</th><th>Petal_Width</th><th>Species_Iris_setosa</th><th>Species_Iris_versicolor</th></tr><tr><th></th><th>Float64</th><th>Float64</th><th>Float64</th><th>Float64</th><th>Bool</th><th>Bool</th></tr></thead><tbody><p>34 rows × 7 columns (omitted printing of 1 columns)</p><tr><th>1</th><td>5.0</td><td>3.6</td><td>1.4</td><td>0.2</td><td>1</td><td>0</td></tr><tr><th>2</th><td>4.4</td><td>2.9</td><td>1.4</td><td>0.2</td><td>1</td><td>0</td></tr><tr><th>3</th><td>5.4</td><td>3.7</td><td>1.5</td><td>0.2</td><td>1</td><td>0</td></tr><tr><th>4</th><td>4.8</td><td>3.4</td><td>1.6</td><td>0.2</td><td>1</td><td>0</td></tr><tr><th>5</th><td>5.4</td><td>3.4</td><td>1.7</td><td>0.2</td><td>1</td><td>0</td></tr><tr><th>6</th><td>4.6</td><td>3.6</td><td>1.0</td><td>0.2</td><td>1</td><td>0</td></tr><tr><th>7</th><td>4.8</td><td>3.4</td><td>1.9</td><td>0.2</td><td>1</td><td>0</td></tr><tr><th>8</th><td>5.2</td><td>3.5</td><td>1.5</td><td>0.2</td><td>1</td><td>0</td></tr><tr><th>9</th><td>5.2</td><td>3.4</td><td>1.4</td><td>0.2</td><td>1</td><td>0</td></tr><tr><th>10</th><td>5.5</td><td>4.2</td><td>1.4</td><td>0.2</td><td>1</td><td>0</td></tr><tr><th>11</th><td>5.0</td><td>3.2</td><td>1.2</td><td>0.2</td><td>1</td><td>0</td></tr><tr><th>12</th><td>4.4</td><td>3.0</td><td>1.3</td><td>0.2</td><td>1</td><td>0</td></tr><tr><th>13</th><td>5.0</td><td>3.5</td><td>1.3</td><td>0.3</td><td>1</td><td>0</td></tr><tr><th>14</th><td>6.4</td><td>3.2</td><td>4.5</td><td>1.5</td><td>0</td><td>1</td></tr><tr><th>15</th><td>5.5</td><td>2.3</td><td>4.0</td><td>1.3</td><td>0</td><td>1</td></tr><tr><th>16</th><td>6.6</td><td>2.9</td><td>4.6</td><td>1.3</td><td>0</td><td>1</td></tr><tr><th>17</th><td>5.0</td><td>2.0</td><td>3.5</td><td>1.0</td><td>0</td><td>1</td></tr><tr><th>18</th><td>6.2</td><td>2.2</td><td>4.5</td><td>1.5</td><td>0</td><td>1</td></tr><tr><th>19</th><td>6.4</td><td>2.9</td><td>4.3</td><td>1.3</td><td>0</td><td>1</td></tr><tr><th>20</th><td>5.7</td><td>2.6</td><td>3.5</td><td>1.0</td><td>0</td><td>1</td></tr><tr><th>21</th><td>6.0</td><td>2.7</td><td>5.1</td><td>1.6</td><td>0</td><td>1</td></tr><tr><th>22</th><td>5.5</td><td>2.5</td><td>4.0</td><td>1.3</td><td>0</td><td>1</td></tr><tr><th>23</th><td>5.5</td><td>2.6</td><td>4.4</td><td>1.2</td><td>0</td><td>1</td></tr><tr><th>24</th><td>6.2</td><td>2.9</td><td>4.3</td><td>1.3</td><td>0</td><td>1</td></tr><tr><th>25</th><td>5.7</td><td>2.8</td><td>4.1</td><td>1.3</td><td>0</td><td>1</td></tr><tr><th>26</th><td>7.6</td><td>3.0</td><td>6.6</td><td>2.1</td><td>0</td><td>0</td></tr><tr><th>27</th><td>6.5</td><td>3.2</td><td>5.1</td><td>2.0</td><td>0</td><td>0</td></tr><tr><th>28</th><td>5.8</td><td>2.8</td><td>5.1</td><td>2.4</td><td>0</td><td>0</td></tr><tr><th>29</th><td>6.3</td><td>2.7</td><td>4.9</td><td>1.8</td><td>0</td><td>0</td></tr><tr><th>30</th><td>7.2</td><td>3.2</td><td>6.0</td><td>1.8</td><td>0</td><td>0</td></tr><tr><th>&vellip;</th><td>&vellip;</td><td>&vellip;</td><td>&vellip;</td><td>&vellip;</td><td>&vellip;</td><td>&vellip;</td></tr></tbody></table>"
      ],
      "text/latex": [
       "\\begin{tabular}{r|ccccccc}\n",
       "\t& Sepal\\_Length & Sepal\\_Width & Petal\\_Length & Petal\\_Width & Species\\_Iris\\_setosa & Species\\_Iris\\_versicolor & \\\\\n",
       "\t\\hline\n",
       "\t& Float64 & Float64 & Float64 & Float64 & Bool & Bool & \\\\\n",
       "\t\\hline\n",
       "\t1 & 5.0 & 3.6 & 1.4 & 0.2 & 1 & 0 & $\\dots$ \\\\\n",
       "\t2 & 4.4 & 2.9 & 1.4 & 0.2 & 1 & 0 & $\\dots$ \\\\\n",
       "\t3 & 5.4 & 3.7 & 1.5 & 0.2 & 1 & 0 & $\\dots$ \\\\\n",
       "\t4 & 4.8 & 3.4 & 1.6 & 0.2 & 1 & 0 & $\\dots$ \\\\\n",
       "\t5 & 5.4 & 3.4 & 1.7 & 0.2 & 1 & 0 & $\\dots$ \\\\\n",
       "\t6 & 4.6 & 3.6 & 1.0 & 0.2 & 1 & 0 & $\\dots$ \\\\\n",
       "\t7 & 4.8 & 3.4 & 1.9 & 0.2 & 1 & 0 & $\\dots$ \\\\\n",
       "\t8 & 5.2 & 3.5 & 1.5 & 0.2 & 1 & 0 & $\\dots$ \\\\\n",
       "\t9 & 5.2 & 3.4 & 1.4 & 0.2 & 1 & 0 & $\\dots$ \\\\\n",
       "\t10 & 5.5 & 4.2 & 1.4 & 0.2 & 1 & 0 & $\\dots$ \\\\\n",
       "\t11 & 5.0 & 3.2 & 1.2 & 0.2 & 1 & 0 & $\\dots$ \\\\\n",
       "\t12 & 4.4 & 3.0 & 1.3 & 0.2 & 1 & 0 & $\\dots$ \\\\\n",
       "\t13 & 5.0 & 3.5 & 1.3 & 0.3 & 1 & 0 & $\\dots$ \\\\\n",
       "\t14 & 6.4 & 3.2 & 4.5 & 1.5 & 0 & 1 & $\\dots$ \\\\\n",
       "\t15 & 5.5 & 2.3 & 4.0 & 1.3 & 0 & 1 & $\\dots$ \\\\\n",
       "\t16 & 6.6 & 2.9 & 4.6 & 1.3 & 0 & 1 & $\\dots$ \\\\\n",
       "\t17 & 5.0 & 2.0 & 3.5 & 1.0 & 0 & 1 & $\\dots$ \\\\\n",
       "\t18 & 6.2 & 2.2 & 4.5 & 1.5 & 0 & 1 & $\\dots$ \\\\\n",
       "\t19 & 6.4 & 2.9 & 4.3 & 1.3 & 0 & 1 & $\\dots$ \\\\\n",
       "\t20 & 5.7 & 2.6 & 3.5 & 1.0 & 0 & 1 & $\\dots$ \\\\\n",
       "\t21 & 6.0 & 2.7 & 5.1 & 1.6 & 0 & 1 & $\\dots$ \\\\\n",
       "\t22 & 5.5 & 2.5 & 4.0 & 1.3 & 0 & 1 & $\\dots$ \\\\\n",
       "\t23 & 5.5 & 2.6 & 4.4 & 1.2 & 0 & 1 & $\\dots$ \\\\\n",
       "\t24 & 6.2 & 2.9 & 4.3 & 1.3 & 0 & 1 & $\\dots$ \\\\\n",
       "\t25 & 5.7 & 2.8 & 4.1 & 1.3 & 0 & 1 & $\\dots$ \\\\\n",
       "\t26 & 7.6 & 3.0 & 6.6 & 2.1 & 0 & 0 & $\\dots$ \\\\\n",
       "\t27 & 6.5 & 3.2 & 5.1 & 2.0 & 0 & 0 & $\\dots$ \\\\\n",
       "\t28 & 5.8 & 2.8 & 5.1 & 2.4 & 0 & 0 & $\\dots$ \\\\\n",
       "\t29 & 6.3 & 2.7 & 4.9 & 1.8 & 0 & 0 & $\\dots$ \\\\\n",
       "\t30 & 7.2 & 3.2 & 6.0 & 1.8 & 0 & 0 & $\\dots$ \\\\\n",
       "\t$\\dots$ & $\\dots$ & $\\dots$ & $\\dots$ & $\\dots$ & $\\dots$ & $\\dots$ &  \\\\\n",
       "\\end{tabular}\n"
      ],
      "text/plain": [
       "\u001b[1m34×7 DataFrame\u001b[0m\n",
       "\u001b[1m Row \u001b[0m│\u001b[1m Sepal_Length \u001b[0m\u001b[1m Sepal_Width \u001b[0m\u001b[1m Petal_Length \u001b[0m\u001b[1m Petal_Width \u001b[0m\u001b[1m Species_Iris_seto\u001b[0m ⋯\n",
       "\u001b[1m     \u001b[0m│\u001b[90m Float64      \u001b[0m\u001b[90m Float64     \u001b[0m\u001b[90m Float64      \u001b[0m\u001b[90m Float64     \u001b[0m\u001b[90m Bool             \u001b[0m ⋯\n",
       "─────┼──────────────────────────────────────────────────────────────────────────\n",
       "   1 │          5.0          3.6           1.4          0.2                 tr ⋯\n",
       "   2 │          4.4          2.9           1.4          0.2                 tr\n",
       "   3 │          5.4          3.7           1.5          0.2                 tr\n",
       "   4 │          4.8          3.4           1.6          0.2                 tr\n",
       "   5 │          5.4          3.4           1.7          0.2                 tr ⋯\n",
       "   6 │          4.6          3.6           1.0          0.2                 tr\n",
       "   7 │          4.8          3.4           1.9          0.2                 tr\n",
       "   8 │          5.2          3.5           1.5          0.2                 tr\n",
       "   9 │          5.2          3.4           1.4          0.2                 tr ⋯\n",
       "  10 │          5.5          4.2           1.4          0.2                 tr\n",
       "  11 │          5.0          3.2           1.2          0.2                 tr\n",
       "  ⋮  │      ⋮             ⋮            ⋮             ⋮                ⋮        ⋱\n",
       "  25 │          5.7          2.8           4.1          1.3                fal\n",
       "  26 │          7.6          3.0           6.6          2.1                fal ⋯\n",
       "  27 │          6.5          3.2           5.1          2.0                fal\n",
       "  28 │          5.8          2.8           5.1          2.4                fal\n",
       "  29 │          6.3          2.7           4.9          1.8                fal\n",
       "  30 │          7.2          3.2           6.0          1.8                fal ⋯\n",
       "  31 │          6.9          3.1           5.4          2.1                fal\n",
       "  32 │          6.9          3.1           5.1          2.3                fal\n",
       "  33 │          6.8          3.2           5.9          2.3                fal\n",
       "  34 │          6.7          3.0           5.2          2.3                fal ⋯\n",
       "\u001b[36m                                                   3 columns and 13 rows omitted\u001b[0m"
      ]
     },
     "execution_count": 7,
     "metadata": {},
     "output_type": "execute_result"
    }
   ],
   "source": [
    "# Train and test split\n",
    "using Random\n",
    "sample = randsubseq(1:size(iris_data, 1), 0.75)\n",
    "notsample = [i for i in 1:size(iris_data, 1) if isempty(searchsorted(sample, i))]\n",
    "train = iris_data[sample, :]\n",
    "test = iris_data[notsample, :]"
   ]
  },
  {
   "cell_type": "code",
   "execution_count": 8,
   "id": "5f8da3db",
   "metadata": {
    "scrolled": true
   },
   "outputs": [
    {
     "data": {
      "text/plain": [
       "34×3 Matrix{Float64}:\n",
       " 1.0          0.0           0.0940977\n",
       " 1.0          0.0           0.352918\n",
       " 1.0          0.0           0.0776083\n",
       " 1.0          0.0           0.173498\n",
       " 1.0          0.0           0.166322\n",
       " 1.0          0.0           0.0690912\n",
       " 1.0          0.0           0.226535\n",
       " 1.0          0.0           0.119859\n",
       " 1.0          0.0           0.13113\n",
       " 1.0          0.0           0.0245498\n",
       " 1.0          0.0           0.163623\n",
       " 1.0          0.0           0.282715\n",
       " 1.0          0.0           0.0842091\n",
       " ⋮                          \n",
       " 4.61947e-15  5.36734e-133  0.694729\n",
       " 9.46312e-11  3.35738e-256  0.414942\n",
       " 1.44936e-12  7.54896e-239  0.445985\n",
       " 1.36769e-24  1.0           0.455392\n",
       " 4.52969e-20  1.0           0.148014\n",
       " 8.89702e-29  1.0           0.167305\n",
       " 3.62247e-19  1.0           0.40128\n",
       " 8.58807e-20  1.0           0.379731\n",
       " 7.4295e-21   1.0           0.177116\n",
       " 6.66337e-21  1.0           0.0896135\n",
       " 3.12492e-26  1.0           0.165617\n",
       " 6.92614e-23  1.0           0.125692"
      ]
     },
     "execution_count": 8,
     "metadata": {},
     "output_type": "execute_result"
    }
   ],
   "source": [
    "# Logistic regression\n",
    "using GLM\n",
    "\n",
    "fm_setosa = @formula(Species_Iris_setosa ~ Sepal_Length + Sepal_Width + Petal_Length + Petal_Width)\n",
    "lm_setosa = glm(fm_setosa, train, Binomial(), LogitLink())\n",
    "pred_setosa = predict(lm_setosa, test)\n",
    "\n",
    "fm_virginica = @formula(Species_Iris_virginica ~ Sepal_Length + Sepal_Width + Petal_Length + Petal_Width)\n",
    "lm_virginica = glm(fm_virginica, train, Binomial(), LogitLink())\n",
    "pred_virginica = predict(lm_virginica, test)\n",
    "\n",
    "fm_versicolor = @formula(Species_Iris_versicolor ~ Sepal_Length + Sepal_Width + Petal_Length + Petal_Width)\n",
    "lm_versicolor = glm(fm_versicolor, train, Binomial(), LogitLink())\n",
    "pred_versicolor = predict(lm_versicolor, test)\n",
    "\n",
    "preds = hcat(pred_setosa, pred_virginica, pred_versicolor)"
   ]
  },
  {
   "cell_type": "code",
   "execution_count": 9,
   "id": "1e2b0e0a",
   "metadata": {
    "scrolled": true
   },
   "outputs": [
    {
     "data": {
      "text/plain": [
       "34-element Vector{String}:\n",
       " \"setosa\"\n",
       " \"setosa\"\n",
       " \"setosa\"\n",
       " \"setosa\"\n",
       " \"setosa\"\n",
       " \"setosa\"\n",
       " \"setosa\"\n",
       " \"setosa\"\n",
       " \"setosa\"\n",
       " \"setosa\"\n",
       " \"setosa\"\n",
       " \"setosa\"\n",
       " \"setosa\"\n",
       " ⋮\n",
       " \"versicolor\"\n",
       " \"versicolor\"\n",
       " \"versicolor\"\n",
       " \"virginica\"\n",
       " \"virginica\"\n",
       " \"virginica\"\n",
       " \"virginica\"\n",
       " \"virginica\"\n",
       " \"virginica\"\n",
       " \"virginica\"\n",
       " \"virginica\"\n",
       " \"virginica\""
      ]
     },
     "execution_count": 9,
     "metadata": {},
     "output_type": "execute_result"
    }
   ],
   "source": [
    "species_map = Dict([1 => \"setosa\", 2 => \"virginica\", 3 => \"versicolor\"]);\n",
    "pred_class = String[];\n",
    "for i in 1:size(preds, 1)\n",
    "    A = preds[i, :]\n",
    "    index = findall(x-> x == maximum(A), A)[1]\n",
    "    pred_class = vcat(pred_class, species_map[index])\n",
    "end\n",
    "pred_class"
   ]
  },
  {
   "cell_type": "code",
   "execution_count": 10,
   "id": "a3c5bb8b",
   "metadata": {
    "scrolled": true
   },
   "outputs": [
    {
     "data": {
      "text/plain": [
       "34-element Vector{String}:\n",
       " \"setosa\"\n",
       " \"setosa\"\n",
       " \"setosa\"\n",
       " \"setosa\"\n",
       " \"setosa\"\n",
       " \"setosa\"\n",
       " \"setosa\"\n",
       " \"setosa\"\n",
       " \"setosa\"\n",
       " \"setosa\"\n",
       " \"setosa\"\n",
       " \"setosa\"\n",
       " \"setosa\"\n",
       " ⋮\n",
       " \"virginica\"\n",
       " \"virginica\"\n",
       " \"virginica\"\n",
       " \"versicolor\"\n",
       " \"versicolor\"\n",
       " \"versicolor\"\n",
       " \"versicolor\"\n",
       " \"versicolor\"\n",
       " \"versicolor\"\n",
       " \"versicolor\"\n",
       " \"versicolor\"\n",
       " \"versicolor\""
      ]
     },
     "execution_count": 10,
     "metadata": {},
     "output_type": "execute_result"
    }
   ],
   "source": [
    "# Compute model accuracy\n",
    "species_map = Dict([1 => \"setosa\", 2 => \"virginica\", 3 => \"versicolor\"]);\n",
    "orig_class = String[]\n",
    "M = Matrix(test[!, 5:7])\n",
    "for i in 1:size(M, 1)\n",
    "    A = M[i, :]\n",
    "    index = findall(x-> x == maximum(A), A)[1]\n",
    "    orig_class = vcat(orig_class, species_map[index])\n",
    "end\n",
    "orig_class"
   ]
  },
  {
   "cell_type": "code",
   "execution_count": 11,
   "id": "b977f47f",
   "metadata": {},
   "outputs": [
    {
     "name": "stdout",
     "output_type": "stream",
     "text": [
      "Accuracy: 0.4118\n"
     ]
    }
   ],
   "source": [
    "correct = 0\n",
    "for i in 1:length(orig_class)\n",
    "   correct += pred_class[i] == orig_class[i] ? 1 : 0\n",
    "end\n",
    "println(\"Accuracy: \", round(correct / length(orig_class), digits = 4))"
   ]
  },
  {
   "cell_type": "markdown",
   "id": "397c5dc7",
   "metadata": {},
   "source": [
    "## Scikit Learn"
   ]
  },
  {
   "cell_type": "code",
   "execution_count": 12,
   "id": "45db63e7",
   "metadata": {},
   "outputs": [],
   "source": [
    "# Import iris data\n",
    "iris_data = DataFrame(CSV.File(Downloads.download(iris_datapath), header = 0));\n",
    "\n",
    "# Clean species name\n",
    "iris_data.Column5 = replace(species -> contains(species, \"-\") ? replace(species, \"-\" => \"_\") : species, iris_data[!, \"Column5\"]);\n",
    "\n",
    "# Rename columns\n",
    "col_names = [\"Sepal_Length\",\"Sepal_Width\",\"Petal_Length\",\"Petal_Width\",\"Species\"];\n",
    "rename!(iris_data, col_names);\n",
    "\n",
    "# Train and test split\n",
    "train = iris_data[sample, :];\n",
    "test = iris_data[notsample, :];\n",
    "\n",
    "x_train, y_train = Array(train[:, 1:4]), Array(train[:, 5]);\n",
    "\n",
    "x_test, y_test = Array(test[:, 1:4]), Array(test[:, 5]);"
   ]
  },
  {
   "cell_type": "code",
   "execution_count": 13,
   "id": "e771ef96",
   "metadata": {},
   "outputs": [
    {
     "data": {
      "text/html": [
       "<table class=\"data-frame\"><thead><tr><th></th><th>Sepal_Length</th><th>Sepal_Width</th><th>Petal_Length</th><th>Petal_Width</th><th>Species</th></tr><tr><th></th><th>Float64</th><th>Float64</th><th>Float64</th><th>Float64</th><th>String</th></tr></thead><tbody><p>5 rows × 5 columns</p><tr><th>1</th><td>5.1</td><td>3.5</td><td>1.4</td><td>0.2</td><td>Iris_setosa</td></tr><tr><th>2</th><td>4.9</td><td>3.0</td><td>1.4</td><td>0.2</td><td>Iris_setosa</td></tr><tr><th>3</th><td>4.7</td><td>3.2</td><td>1.3</td><td>0.2</td><td>Iris_setosa</td></tr><tr><th>4</th><td>4.6</td><td>3.1</td><td>1.5</td><td>0.2</td><td>Iris_setosa</td></tr><tr><th>5</th><td>5.4</td><td>3.9</td><td>1.7</td><td>0.4</td><td>Iris_setosa</td></tr></tbody></table>"
      ],
      "text/latex": [
       "\\begin{tabular}{r|ccccc}\n",
       "\t& Sepal\\_Length & Sepal\\_Width & Petal\\_Length & Petal\\_Width & Species\\\\\n",
       "\t\\hline\n",
       "\t& Float64 & Float64 & Float64 & Float64 & String\\\\\n",
       "\t\\hline\n",
       "\t1 & 5.1 & 3.5 & 1.4 & 0.2 & Iris\\_setosa \\\\\n",
       "\t2 & 4.9 & 3.0 & 1.4 & 0.2 & Iris\\_setosa \\\\\n",
       "\t3 & 4.7 & 3.2 & 1.3 & 0.2 & Iris\\_setosa \\\\\n",
       "\t4 & 4.6 & 3.1 & 1.5 & 0.2 & Iris\\_setosa \\\\\n",
       "\t5 & 5.4 & 3.9 & 1.7 & 0.4 & Iris\\_setosa \\\\\n",
       "\\end{tabular}\n"
      ],
      "text/plain": [
       "\u001b[1m5×5 DataFrame\u001b[0m\n",
       "\u001b[1m Row \u001b[0m│\u001b[1m Sepal_Length \u001b[0m\u001b[1m Sepal_Width \u001b[0m\u001b[1m Petal_Length \u001b[0m\u001b[1m Petal_Width \u001b[0m\u001b[1m Species     \u001b[0m\n",
       "\u001b[1m     \u001b[0m│\u001b[90m Float64      \u001b[0m\u001b[90m Float64     \u001b[0m\u001b[90m Float64      \u001b[0m\u001b[90m Float64     \u001b[0m\u001b[90m String      \u001b[0m\n",
       "─────┼───────────────────────────────────────────────────────────────────\n",
       "   1 │          5.1          3.5           1.4          0.2  Iris_setosa\n",
       "   2 │          4.9          3.0           1.4          0.2  Iris_setosa\n",
       "   3 │          4.7          3.2           1.3          0.2  Iris_setosa\n",
       "   4 │          4.6          3.1           1.5          0.2  Iris_setosa\n",
       "   5 │          5.4          3.9           1.7          0.4  Iris_setosa"
      ]
     },
     "execution_count": 13,
     "metadata": {},
     "output_type": "execute_result"
    }
   ],
   "source": [
    "first(train, 5)"
   ]
  },
  {
   "cell_type": "code",
   "execution_count": 15,
   "id": "62abadb7",
   "metadata": {},
   "outputs": [
    {
     "data": {
      "text/plain": [
       "PyObject LogisticRegression()"
      ]
     },
     "execution_count": 15,
     "metadata": {},
     "output_type": "execute_result"
    }
   ],
   "source": [
    "using ScikitLearn\n",
    "using ScikitLearn: fit!\n",
    "\n",
    "# Fit model\n",
    "@sk_import linear_model: LogisticRegression\n",
    "\n",
    "log_reg = fit!(LogisticRegression(), x_train, y_train)"
   ]
  },
  {
   "cell_type": "code",
   "execution_count": 17,
   "id": "b1b3ad26",
   "metadata": {},
   "outputs": [
    {
     "data": {
      "text/plain": [
       "PyObject array(['Iris_setosa', 'Iris_setosa', 'Iris_setosa', 'Iris_setosa',\n",
       "       'Iris_setosa', 'Iris_setosa', 'Iris_setosa', 'Iris_setosa',\n",
       "       'Iris_setosa', 'Iris_setosa', 'Iris_setosa', 'Iris_setosa',\n",
       "       'Iris_setosa', 'Iris_versicolor', 'Iris_versicolor',\n",
       "       'Iris_versicolor', 'Iris_versicolor', 'Iris_versicolor',\n",
       "       'Iris_versicolor', 'Iris_versicolor', 'Iris_virginica',\n",
       "       'Iris_versicolor', 'Iris_versicolor', 'Iris_versicolor',\n",
       "       'Iris_versicolor', 'Iris_virginica', 'Iris_virginica',\n",
       "       'Iris_virginica', 'Iris_virginica', 'Iris_virginica',\n",
       "       'Iris_virginica', 'Iris_virginica', 'Iris_virginica',\n",
       "       'Iris_virginica'], dtype='<U15')"
      ]
     },
     "execution_count": 17,
     "metadata": {},
     "output_type": "execute_result"
    }
   ],
   "source": [
    "# Predict\n",
    "sklearn_pred = log_reg.predict(x_test)"
   ]
  },
  {
   "cell_type": "code",
   "execution_count": 18,
   "id": "439b422f",
   "metadata": {},
   "outputs": [
    {
     "name": "stdout",
     "output_type": "stream",
     "text": [
      "Accuracy: 0.9706\n"
     ]
    }
   ],
   "source": [
    "# Compute accuracy\n",
    "correct = 0\n",
    "for i in 1:length(y_test)\n",
    "    correct += y_test[i] == sklearn_pred[i] ? 1 : 0\n",
    "end\n",
    "println(\"Accuracy: \", round(correct / length(y_test), digits = 4))"
   ]
  },
  {
   "cell_type": "markdown",
   "id": "9929ac64",
   "metadata": {},
   "source": [
    "## MLJ"
   ]
  },
  {
   "cell_type": "code",
   "execution_count": 40,
   "id": "9ebe97ba",
   "metadata": {},
   "outputs": [
    {
     "name": "stdout",
     "output_type": "stream",
     "text": [
      "import MLJLIBSVMInterface ✔\n"
     ]
    },
    {
     "name": "stderr",
     "output_type": "stream",
     "text": [
      "┌ Info: For silent loading, specify `verbosity=0`. \n",
      "└ @ Main C:\\Users\\isossa\\.julia\\packages\\MLJModels\\w0uSt\\src\\loading.jl:168\n"
     ]
    },
    {
     "data": {
      "text/plain": [
       "MLJLIBSVMInterface.SVC"
      ]
     },
     "execution_count": 40,
     "metadata": {},
     "output_type": "execute_result"
    }
   ],
   "source": [
    "# load the model\n",
    "using MLJ\n",
    "@load SVC pkg=LIBSVM verbosity=1"
   ]
  },
  {
   "cell_type": "code",
   "execution_count": null,
   "id": "e51dfefa",
   "metadata": {},
   "outputs": [],
   "source": []
  },
  {
   "cell_type": "code",
   "execution_count": 42,
   "id": "63e8b15f",
   "metadata": {},
   "outputs": [
    {
     "name": "stderr",
     "output_type": "stream",
     "text": [
      "┌ Warning: The scitype of `X`, in `machine(model, X, ...)` is incompatible with `model=\u001b[34mSVC @664\u001b[39m`:\n",
      "│ scitype(X) = AbstractMatrix{Continuous}\n",
      "│ input_scitype(model) = Table{<:AbstractVector{<:Continuous}}.\n",
      "└ @ MLJBase C:\\Users\\isossa\\.julia\\packages\\MLJBase\\KWyqX\\src\\machines.jl:91\n",
      "┌ Info: Training \u001b[34mMachine{SVC,…} @872\u001b[39m.\n",
      "└ @ MLJBase C:\\Users\\isossa\\.julia\\packages\\MLJBase\\KWyqX\\src\\machines.jl:342\n"
     ]
    }
   ],
   "source": [
    "# create a so-called machine\n",
    "svc_mdl = MLJLIBSVMInterface.SVC()\n",
    "svc = machine(svc_mdl, x_train, categorical(y_train))\n",
    "\n",
    "# fit the model\n",
    "MLJ.fit!(svc);\n",
    "\n",
    "# predict on the test set\n",
    "yhat = MLJ.predict(svc, x_test);"
   ]
  },
  {
   "cell_type": "code",
   "execution_count": 43,
   "id": "0bcf3a01",
   "metadata": {},
   "outputs": [
    {
     "name": "stdout",
     "output_type": "stream",
     "text": [
      "Accuracy: 0.9706\n"
     ]
    }
   ],
   "source": [
    "# Compute accuracy\n",
    "correct = 0\n",
    "for i in 1:length(y_test)\n",
    "    correct += y_test[i] == yhat[i] ? 1 : 0\n",
    "end\n",
    "println(\"Accuracy: \", round(correct / length(y_test), digits = 4))"
   ]
  },
  {
   "cell_type": "code",
   "execution_count": null,
   "id": "95ed644c",
   "metadata": {},
   "outputs": [],
   "source": []
  }
 ],
 "metadata": {
  "kernelspec": {
   "display_name": "Julia 1.7.2",
   "language": "julia",
   "name": "julia-1.7"
  },
  "language_info": {
   "file_extension": ".jl",
   "mimetype": "application/julia",
   "name": "julia",
   "version": "1.7.2"
  }
 },
 "nbformat": 4,
 "nbformat_minor": 5
}
